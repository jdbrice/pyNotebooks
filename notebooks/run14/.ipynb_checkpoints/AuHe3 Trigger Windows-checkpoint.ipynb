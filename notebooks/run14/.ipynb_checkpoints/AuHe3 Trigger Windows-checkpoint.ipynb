{
 "metadata": {
  "hide_input": false,
  "name": "",
  "signature": "sha256:3344f87e4af01b5ebf9476baedeff0e28b786e7dc81a735add72aaf3b86c7094"
 },
 "nbformat": 3,
 "nbformat_minor": 0,
 "worksheets": [
  {
   "cells": [
    {
     "cell_type": "markdown",
     "metadata": {},
     "source": [
      "### Run 14 AuHe3 TOF Trigger windows\n",
      "\n",
      "1. Select a DAQ file from a good run\n",
      "2. Use Bill's RTS code to pull TOF hit data from DAQ files. Produce a .root file with the leTrg and TrTrg histograms.\n",
      "3. Change the **Configurable Parameters** and then run the notebook"
     ]
    },
    {
     "cell_type": "markdown",
     "metadata": {},
     "source": [
      "#### Configrable Parameters"
     ]
    },
    {
     "cell_type": "code",
     "collapsed": false,
     "input": [
      "data = '/mass/bnl/data/tof_15171007.root'"
     ],
     "language": "python",
     "metadata": {
      "input_collapsed": true,
      "run_control": {
       "breakpoint": false,
       "read_only": false
      }
     },
     "outputs": [],
     "prompt_number": 2
    },
    {
     "cell_type": "code",
     "collapsed": false,
     "input": [
      "import os\n",
      "import rootpy.io as rpio\n",
      "import rootpy.plotting.root2matplotlib as rplt\n",
      "import matplotlib.pyplot as plt\n",
      "from rootpy.plotting import Hist, Hist2D, HistStack\n",
      "import rootnotes as rnc\n",
      "from rootpy.plotting.style import get_style, set_style\n",
      "from rootpy.plotting.utils import get_limits\n",
      "from ROOT import gStyle\n",
      "from math import *\n",
      "import time\n",
      "\n",
      "gStyle.SetOptStat( 0 )"
     ],
     "language": "python",
     "metadata": {
      "input_collapsed": true,
      "run_control": {
       "breakpoint": false,
       "read_only": false
      }
     },
     "outputs": [],
     "prompt_number": 6
    },
    {
     "cell_type": "code",
     "collapsed": false,
     "input": [
      "f = rpio.root_open( data )\n",
      "for path, dirs, objects in f.walk():\n",
      "        # do something\n",
      "        print objects\n",
      "\n",
      "hLe = f.leTrg"
     ],
     "language": "python",
     "metadata": {
      "input_collapsed": true,
      "run_control": {
       "breakpoint": false,
       "read_only": false
      }
     },
     "outputs": [
      {
       "output_type": "stream",
       "stream": "stdout",
       "text": [
        "['leTrg1', 'TrTrg3', 'TrTrg2', 'TrTrg1', 'TrTrg0', 'leTrg0', 'raw', 'leTrg2', 'leTrg3', 'leTrg', 'TrTrg', 'TrTrg121', 'leTrg121']\n"
       ]
      }
     ],
     "prompt_number": 7
    },
    {
     "cell_type": "code",
     "collapsed": false,
     "input": [
      "start = time.clock()\n",
      "tray = [] # tray projected from 2d hist\n",
      "lEdge = []   # lower edge time\n",
      "hEdge = []   # higher edge time\n",
      "\n",
      "for i in xrange( 0, hLe.GetNbinsX() ):\n",
      "    tray.append( Hist( 4300, 0, 4300 ) )\n",
      "    tray[ i ][ 1:4300 ] = hLe[ i, 1:4300 ] \n",
      "    m = tray[ i ].GetMaximum()\n",
      "    ffb = tray[ i ].FindFirstBinAbove( m * .05 )\n",
      "    flb = tray[ i ].FindLastBinAbove( m * .05 )\n",
      "    lEdge.append( ffb )\n",
      "    hEdge.append( flb )\n",
      "    #print 'Tray[ ', i, ' ] = --> ( ', ffb, \" , \", flb, \" )\"\n",
      "\n",
      "print \"Trigger windows calculated in : \",  (time.clock() - start ), \" sec. \""
     ],
     "language": "python",
     "metadata": {
      "input_collapsed": true,
      "run_control": {
       "breakpoint": false,
       "read_only": false
      }
     },
     "outputs": [
      {
       "output_type": "stream",
       "stream": "stdout",
       "text": [
        "Completed in :  26.950498  sec. \n"
       ]
      }
     ],
     "prompt_number": 8
    },
    {
     "cell_type": "code",
     "collapsed": false,
     "input": [
      "#fig, splts = plt.subplots( nrows=2, ncols=2, figsize=(15, 15) )\n",
      "fig = plt.figure( figsize=(20, 10) )\n",
      "set_style('ATLAS')\n",
      "\n",
      "binl = tray[1].GetXaxis().GetBinCenter( lEdge[1] )\n",
      "binh = tray[1].GetXaxis().GetBinCenter( hEdge[1] )\n",
      "\n",
      "ax = plt.axes()\n",
      "ax.set_yscale( 'log' )\n",
      "\n",
      "\n",
      "xa = Hist( tray[1][::10] )\n",
      "trigLow = xa.GetXaxis().FindBin( binl )\n",
      "trigHi = xa.GetXaxis().FindBin( binh )\n",
      "\n",
      "xp = xa.Clone(title='Trigger Window' )\n",
      "xf = xa.Clone(title='Tof Hit Time' )\n",
      "xf[0:trigLow] = (0, 0)\n",
      "xf[trigHi:1000] = (0, 0)\n",
      "xf.fillstyle = 'solid'\n",
      "xf.fillcolor = 'red'\n",
      "\n",
      "rplt.hist( [xa, xf], stacked=False, axes=ax )\n",
      "ax.set_xlim( [binl - (binh-binl)*6, binh + (binh-binl)*6] )\n",
      "ax.set_ylim( [.1, xa.GetMaximum() + xa.GetMaximum()*10 ] )\n",
      "p1 = Rectangle((0, 0), 1, 1, fc=\"r\")\n",
      "p2 = plt.Line2D((0,1),(0,0), color='k', linestyle='-')\n",
      "leg = plt.legend([p1, p2], [ \"Trigger Window\", \"TOF Hits\"] )\n",
      "\n",
      "#splts[0][0].plot([500, 500], [0, 1000], color='k', linestyle='-', linewidth=2)\n",
      "#rplt.hist( x[2], axes=splts[1][0] )\n",
      "#rplt.hist( x[3], axes=splts[2][0] )\n",
      "#display( plt )"
     ],
     "language": "python",
     "metadata": {
      "input_collapsed": true,
      "run_control": {
       "breakpoint": false,
       "read_only": false
      }
     },
     "outputs": [
      {
       "output_type": "stream",
       "stream": "stderr",
       "text": [
        "INFO:rootpy.plotting.style:using ROOT style 'ATLAS'\n"
       ]
      },
      {
       "metadata": {},
       "output_type": "display_data",
       "png": "[encoded data removed]",
       "text": [
        "<matplotlib.figure.Figure at 0xadaf12cc>"
       ]
      }
     ],
     "prompt_number": 12
    },
    {
     "cell_type": "code",
     "collapsed": false,
     "input": [],
     "language": "python",
     "metadata": {
      "run_control": {
       "breakpoint": false,
       "read_only": false
      }
     },
     "outputs": []
    }
   ],
   "metadata": {}
  }
 ]
}